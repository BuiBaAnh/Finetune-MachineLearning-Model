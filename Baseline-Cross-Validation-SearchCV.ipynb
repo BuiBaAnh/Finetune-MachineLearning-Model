{
 "cells": [
  {
   "cell_type": "code",
   "execution_count": null,
   "id": "7e8d2b79",
   "metadata": {},
   "outputs": [],
   "source": [
    "import pandas as pd\n",
    "\n",
    "from sklearn.ensemble import RandomForestClassifier\n",
    "\n",
    "from sklearn.model_selection import train_test_split\n",
    "\n",
    "from sklearn.model_selection import GridSearchCV\n",
    "\n",
    "from sklearn import metrics\n",
    "\n",
    "import warnings\n",
    "\n",
    "warnings.filterwarnings('ignore')\n"
   ]
  },
  {
   "cell_type": "code",
   "execution_count": null,
   "id": "1a55bdb1",
   "metadata": {},
   "outputs": [],
   "source": [
    "\n",
    "df = pd.read_csv('heart.csv')\n",
    "\n",
    "X = df.drop('target', axis = 1)\n",
    "\n",
    "y = df['target']\n",
    "\n",
    "X_train, X_test, y_train, y_test = train_test_split(X, y, test_size = 0.3, random_state = 42)\n",
    "\n",
    "print('X_train:',len(X_train))\n",
    "print('X_test:',len(X_test))"
   ]
  },
  {
   "cell_type": "markdown",
   "id": "9b237d47",
   "metadata": {},
   "source": [
    "<h1> Baseline"
   ]
  },
  {
   "cell_type": "code",
   "execution_count": null,
   "id": "8a0393c5",
   "metadata": {},
   "outputs": [],
   "source": [
    "from sklearn.metrics import confusion_matrix,precision_score,recall_score,classification_report, accuracy_score\n",
    "from sklearn.model_selection import RepeatedStratifiedKFold\n",
    "from sklearn.model_selection import cross_val_score"
   ]
  },
  {
   "cell_type": "code",
   "execution_count": null,
   "id": "0052817d",
   "metadata": {},
   "outputs": [],
   "source": [
    "model = RandomForestClassifier(max_depth=12, max_features=5)\n",
    "model.fit(X_train, y_train)\n"
   ]
  },
  {
   "cell_type": "code",
   "execution_count": null,
   "id": "db8d6aee",
   "metadata": {},
   "outputs": [],
   "source": [
    "y_pred = model.predict(X_test)"
   ]
  },
  {
   "cell_type": "code",
   "execution_count": null,
   "id": "5c42b78c",
   "metadata": {},
   "outputs": [],
   "source": [
    "print('accuracy :\\n',accuracy_score(y_test,y_pred))\n",
    "print('confusion matrix :\\n',confusion_matrix(y_test,y_pred))\n",
    "print('precision_score :\\n',precision_score(y_test,y_pred,pos_label=1))\n",
    "print('recall_score :\\n',recall_score(y_test,y_pred,pos_label=1))\n",
    "print('classification_report :\\n',classification_report(y_test,y_pred))"
   ]
  },
  {
   "cell_type": "markdown",
   "id": "fdd85031",
   "metadata": {},
   "source": [
    "<h1> Cross Validation"
   ]
  },
  {
   "cell_type": "code",
   "execution_count": null,
   "id": "054a0403",
   "metadata": {},
   "outputs": [],
   "source": [
    "model = RandomForestClassifier()\n",
    "cv = RepeatedStratifiedKFold(n_splits=10, n_repeats=5, random_state=1)\n",
    "\n",
    "scores = cross_val_score(model, X_train, y_train, scoring='accuracy', cv=cv, n_jobs=-1)\n",
    "scores"
   ]
  },
  {
   "cell_type": "markdown",
   "id": "7bf3a530",
   "metadata": {},
   "source": [
    "<h1> GridSearchCV"
   ]
  },
  {
   "cell_type": "code",
   "execution_count": null,
   "id": "90699c21",
   "metadata": {},
   "outputs": [],
   "source": [
    "rfc = RandomForestClassifier()\n",
    "forest_params = [{'max_depth': list(range(10, 15)), 'max_features': list(range(0,14))}]\n",
    "cv = RepeatedStratifiedKFold(n_splits=10, n_repeats=5, random_state=1)\n",
    "clf = GridSearchCV(rfc, forest_params, cv = cv, scoring='accuracy', verbose = 10)\n",
    "\n",
    "clf.fit(X_train, y_train)\n",
    "\n",
    "print(clf.best_params_)\n",
    "\n",
    "print(clf.best_score_)"
   ]
  },
  {
   "cell_type": "code",
   "execution_count": null,
   "id": "6feca23a",
   "metadata": {},
   "outputs": [],
   "source": [
    "y_pred = clf.predict(X_test)"
   ]
  },
  {
   "cell_type": "code",
   "execution_count": null,
   "id": "680dafe9",
   "metadata": {},
   "outputs": [],
   "source": [
    "print('accuracy :\\n',accuracy_score(y_test,y_pred))\n",
    "print('confusion matrix :\\n',confusion_matrix(y_test,y_pred))\n",
    "print('precision_score :\\n',precision_score(y_test,y_pred,pos_label=1))\n",
    "print('recall_score :\\n',recall_score(y_test,y_pred,pos_label=1))\n",
    "print('classification_report :\\n',classification_report(y_test,y_pred))"
   ]
  },
  {
   "cell_type": "code",
   "execution_count": null,
   "id": "ba651f44",
   "metadata": {},
   "outputs": [],
   "source": []
  }
 ],
 "metadata": {
  "kernelspec": {
   "display_name": "Python 3 (ipykernel)",
   "language": "python",
   "name": "python3"
  },
  "language_info": {
   "codemirror_mode": {
    "name": "ipython",
    "version": 3
   },
   "file_extension": ".py",
   "mimetype": "text/x-python",
   "name": "python",
   "nbconvert_exporter": "python",
   "pygments_lexer": "ipython3",
   "version": "3.9.5"
  }
 },
 "nbformat": 4,
 "nbformat_minor": 5
}
